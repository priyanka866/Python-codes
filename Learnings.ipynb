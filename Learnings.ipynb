{
 "cells": [
  {
   "cell_type": "code",
   "execution_count": 1,
   "metadata": {},
   "outputs": [
    {
     "name": "stdout",
     "output_type": "stream",
     "text": [
      "What to print\n"
     ]
    }
   ],
   "source": [
    "#Print function\n",
    "print('What to print')\n",
    "print('print(\"What to print\")')\n",
    "print('print(\"What to print\")\\nAnything')\n",
    "print(\"Hello \"+ \"priyanka\")\n",
    "print(\"Day 1- String Manipulation\")\n",
    "print('String Concatention is done through \"+\" sign.\\ne.g. print(\"Hello\" + \"world\")')\n",
    "print(\"New lines can be created with a backslash and n.\")\n",
    "a=input(\"What is your name?\")\n",
    "print(len(a))"
   ]
  },
  {
   "cell_type": "code",
   "execution_count": 22,
   "metadata": {},
   "outputs": [
    {
     "name": "stdout",
     "output_type": "stream",
     "text": [
      "What is the name of your city?ranchi\n",
      "ranchi\n",
      "What is the name of your pet?star\n",
      "star\n",
      "Your band name is ranchi star\n"
     ]
    }
   ],
   "source": [
    "#input function\n",
    "city = input(\"What is the name of your city?\")\n",
    "print(a)\n",
    "pet = input(\"What is the name of your pet?\")\n",
    "print(b)\n",
    "print(\"Your band name is\",city,pet)\n",
    "\n",
    "#Type eroor and type conversion \n",
    "street_name = \"Abbey Road\"\n",
    "print(street_name[4] + street_name[7])\n",
    "type(street_name)\n",
    "\n",
    "#Adding two digit by user input\n",
    "a = input(\"Enter two digit number \")\n",
    "c= int(a[0])+ int(a[1])\n",
    "print(c)\n",
    "\n",
    "#BMI calculator\n",
    "height= float(input(\"Enter your height in m\"))\n",
    "print(a)\n",
    "weight = float(input(\"Enter your weight in kg\"))\n",
    "print(b)\n",
    "BMI = weight/height**2\n",
    "print(\"Your BMI is\",BMI)\n"
   ]
  },
  {
   "cell_type": "code",
   "execution_count": 62,
   "metadata": {},
   "outputs": [
    {
     "name": "stdout",
     "output_type": "stream",
     "text": [
      "What is your current age?33\n",
      "Remmaing age until 90: 57 years\n",
      "You have 20805 days,2964 weeks and 684 months left.\n",
      "What was the total bill? 150\n",
      "What percent tip would u like to give? 10\n",
      "Tip added: 15.0\n",
      "Total bill : 165.0\n",
      "How many people are there to split the bill 3\n",
      "Each person should pay : 55.00\n",
      "Each person should pay : 55.0\n"
     ]
    }
   ],
   "source": [
    "#Number of days left until 90 from current age \n",
    "curr_age = int(input(\"What is your current age?\"))\n",
    "rem_age = 90 - curr_age\n",
    "print(f\"Remmaing age until 90: {rem_age} years\")\n",
    "days = int((365*rem_age))\n",
    "weeks = int((52*rem_age))\n",
    "months = int((12*rem_age))\n",
    "print(f\"You have {days} days,{weeks} weeks and {months} months left.\")\n",
    "\n",
    "#Tip Calculator\n",
    "bill = float(input(\"What was the total bill? \"))\n",
    "tip =  float(input(\"What percent tip would u like to give? \"))\n",
    "tip_amt = bill*float(tip/100)\n",
    "print(f\"Tip added: {tip_amt}\")\n",
    "Tot_bill = bill+ tip_amt\n",
    "print(f\"Total bill : {Tot_bill}\")\n",
    "split = int(input(\"How many people are there to split the bill \"))\n",
    "amt_pay = round(Tot_bill/split,2)\n",
    "amt_pay = \"{:.2f}\".format(amt_pay)\n",
    "print(f\"Each person should pay : {amt_pay}\")\n",
    "#or reduce variable \n",
    "amt_pay1 =  round((bill+(bill*float(tip/100)))/split,2)\n",
    "print(f\"Each person should pay : {amt_pay1}\")"
   ]
  },
  {
   "cell_type": "code",
   "execution_count": null,
   "metadata": {},
   "outputs": [],
   "source": []
  }
 ],
 "metadata": {
  "kernelspec": {
   "display_name": "Python 3",
   "language": "python",
   "name": "python3"
  },
  "language_info": {
   "codemirror_mode": {
    "name": "ipython",
    "version": 3
   },
   "file_extension": ".py",
   "mimetype": "text/x-python",
   "name": "python",
   "nbconvert_exporter": "python",
   "pygments_lexer": "ipython3",
   "version": "3.8.5"
  }
 },
 "nbformat": 4,
 "nbformat_minor": 4
}
